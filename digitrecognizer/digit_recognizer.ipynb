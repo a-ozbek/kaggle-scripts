{
 "cells": [
  {
   "cell_type": "code",
   "execution_count": 1,
   "metadata": {
    "collapsed": false
   },
   "outputs": [
    {
     "name": "stderr",
     "output_type": "stream",
     "text": [
      "Using TensorFlow backend.\n"
     ]
    }
   ],
   "source": [
    "import numpy as np\n",
    "np.random.seed(43)\n",
    "import pandas as pd\n",
    "import matplotlib.pyplot as plt\n",
    "%matplotlib inline\n",
    "import progressbar\n",
    "import pickle\n",
    "\n",
    "from keras.models import Sequential\n",
    "from keras.layers import Convolution2D, MaxPooling2D\n",
    "from keras.layers import Dense, Flatten, Dropout\n",
    "from keras.utils.np_utils import to_categorical\n",
    "from keras.utils.visualize_util import plot"
   ]
  },
  {
   "cell_type": "markdown",
   "metadata": {},
   "source": [
    "## Load the data"
   ]
  },
  {
   "cell_type": "code",
   "execution_count": 2,
   "metadata": {
    "collapsed": false
   },
   "outputs": [],
   "source": [
    "# Load the data\n",
    "X_train = np.load('./X_train.npy')\n",
    "X_test = np.load('./X_test.npy')\n",
    "y_train = np.load('./y_train.npy')"
   ]
  },
  {
   "cell_type": "markdown",
   "metadata": {},
   "source": [
    "## Define the model and Train"
   ]
  },
  {
   "cell_type": "code",
   "execution_count": 3,
   "metadata": {
    "collapsed": false
   },
   "outputs": [
    {
     "name": "stdout",
     "output_type": "stream",
     "text": [
      "Train on 35700 samples, validate on 6300 samples\n",
      "Epoch 1/17\n",
      "35700/35700 [==============================] - 16s - loss: 0.3941 - acc: 0.8836 - val_loss: 0.1242 - val_acc: 0.9622\n",
      "Epoch 2/17\n",
      "35700/35700 [==============================] - 16s - loss: 0.1111 - acc: 0.9653 - val_loss: 0.0810 - val_acc: 0.9775\n",
      "Epoch 3/17\n",
      "35700/35700 [==============================] - 16s - loss: 0.0797 - acc: 0.9749 - val_loss: 0.0751 - val_acc: 0.9795\n",
      "Epoch 4/17\n",
      "35700/35700 [==============================] - 16s - loss: 0.0631 - acc: 0.9799 - val_loss: 0.0617 - val_acc: 0.9817\n",
      "Epoch 5/17\n",
      "35700/35700 [==============================] - 15s - loss: 0.0530 - acc: 0.9829 - val_loss: 0.0589 - val_acc: 0.9833\n",
      "Epoch 6/17\n",
      "35700/35700 [==============================] - 15s - loss: 0.0425 - acc: 0.9864 - val_loss: 0.0508 - val_acc: 0.9862\n",
      "Epoch 7/17\n",
      "35700/35700 [==============================] - 16s - loss: 0.0377 - acc: 0.9874 - val_loss: 0.0471 - val_acc: 0.9849\n",
      "Epoch 8/17\n",
      "35700/35700 [==============================] - 17s - loss: 0.0317 - acc: 0.9894 - val_loss: 0.0486 - val_acc: 0.9868\n",
      "Epoch 9/17\n",
      "35700/35700 [==============================] - 16s - loss: 0.0275 - acc: 0.9903 - val_loss: 0.0519 - val_acc: 0.9837\n",
      "Epoch 10/17\n",
      "35700/35700 [==============================] - 15s - loss: 0.0250 - acc: 0.9916 - val_loss: 0.0676 - val_acc: 0.9805\n",
      "Epoch 11/17\n",
      "35700/35700 [==============================] - 15s - loss: 0.0233 - acc: 0.9920 - val_loss: 0.0440 - val_acc: 0.9879\n",
      "Epoch 12/17\n",
      "35700/35700 [==============================] - 16s - loss: 0.0204 - acc: 0.9931 - val_loss: 0.0463 - val_acc: 0.9863\n",
      "Epoch 13/17\n",
      "35700/35700 [==============================] - 17s - loss: 0.0193 - acc: 0.9936 - val_loss: 0.0443 - val_acc: 0.9868\n",
      "Epoch 14/17\n",
      "35700/35700 [==============================] - 19s - loss: 0.0183 - acc: 0.9934 - val_loss: 0.0599 - val_acc: 0.9837\n",
      "Epoch 15/17\n",
      "35700/35700 [==============================] - 19s - loss: 0.0157 - acc: 0.9945 - val_loss: 0.0396 - val_acc: 0.9884\n",
      "Epoch 16/17\n",
      "35700/35700 [==============================] - 19s - loss: 0.0139 - acc: 0.9954 - val_loss: 0.0448 - val_acc: 0.9879\n",
      "Epoch 17/17\n",
      "35700/35700 [==============================] - 21s - loss: 0.0152 - acc: 0.9944 - val_loss: 0.0477 - val_acc: 0.9870\n"
     ]
    }
   ],
   "source": [
    "# Shuffle the training data before training\n",
    "shuffle_i = np.arange(len(X_train))\n",
    "np.random.shuffle(shuffle_i)\n",
    "X_train = X_train[shuffle_i]\n",
    "y_train = y_train[shuffle_i]\n",
    "\n",
    "# Define the model\n",
    "model = Sequential()\n",
    "model.add(Convolution2D(6,5,5, border_mode='same', input_shape=(28,28,1), activation='relu'))\n",
    "model.add(MaxPooling2D(pool_size=(2,2)))\n",
    "model.add(Convolution2D(16,5,5, border_mode='same', activation='relu'))\n",
    "model.add(MaxPooling2D(pool_size=(2,2)))\n",
    "# Flatten\n",
    "model.add(Flatten())\n",
    "# Fully Connected Layer\n",
    "model.add(Dropout(0.15))\n",
    "model.add(Dense(output_dim=120, activation='relu'))\n",
    "model.add(Dense(output_dim=80, activation='relu'))\n",
    "model.add(Dense(output_dim=10, activation='softmax'))\n",
    "\n",
    "# Define the optimizer and the loss function\n",
    "model.compile(loss='categorical_crossentropy', optimizer='adam', metrics=['accuracy'])\n",
    "\n",
    "# Fit the model\n",
    "y_train = to_categorical(y_train)\n",
    "hist = model_hist = model.fit(X_train, y_train, batch_size=128, nb_epoch=17, validation_split=0.15)"
   ]
  },
  {
   "cell_type": "markdown",
   "metadata": {},
   "source": [
    "## Analyze the training result"
   ]
  },
  {
   "cell_type": "code",
   "execution_count": 4,
   "metadata": {
    "collapsed": false
   },
   "outputs": [
    {
     "data": {
      "image/png": "[encoded data removed]",
      "text/plain": [
       "<matplotlib.figure.Figure at 0x11deb3d10>"
      ]
     },
     "metadata": {},
     "output_type": "display_data"
    }
   ],
   "source": [
    "hist_data = hist.history\n",
    "fig = plt.figure()\n",
    "plt.plot(np.array(hist.epoch)+1, hist_data['acc']);\n",
    "plt.plot(np.array(hist.epoch)+1,hist_data['val_acc']);\n",
    "plt.legend(['Train acc.', 'Val. acc.'], loc='best')\n",
    "plt.xlabel('Epochs'); plt.ylabel('Accuracy'); plt.grid('on')\n",
    "lim = plt.xlim([1, len(hist.epoch)])"
   ]
  },
  {
   "cell_type": "markdown",
   "metadata": {},
   "source": [
    "## Predict the test data and create submission file"
   ]
  },
  {
   "cell_type": "code",
   "execution_count": 5,
   "metadata": {
    "collapsed": true
   },
   "outputs": [],
   "source": [
    "y_predicted = model.predict(X_test)"
   ]
  },
  {
   "cell_type": "code",
   "execution_count": 6,
   "metadata": {
    "collapsed": false
   },
   "outputs": [],
   "source": [
    "# Convert it into one-dimensional array by choosing the max of each row\n",
    "y_pred = []\n",
    "for row in y_predicted:\n",
    "    y_pred.append(np.argmax(row))\n",
    "y_pred = np.array(y_pred)"
   ]
  },
  {
   "cell_type": "code",
   "execution_count": 7,
   "metadata": {
    "collapsed": false
   },
   "outputs": [],
   "source": [
    "# Load the example submission and replace the column with predictions\n",
    "sub_file = pd.read_csv('./sample_submission.csv')\n",
    "sub_file['Label'] = y_pred\n",
    "sub_file.to_csv('./sub2.csv', index=False)"
   ]
  },
  {
   "cell_type": "code",
   "execution_count": null,
   "metadata": {
    "collapsed": false
   },
   "outputs": [],
   "source": []
  }
 ],
 "metadata": {
  "kernelspec": {
   "display_name": "Python 2",
   "language": "python",
   "name": "python2"
  },
  "language_info": {
   "codemirror_mode": {
    "name": "ipython",
    "version": 2
   },
   "file_extension": ".py",
   "mimetype": "text/x-python",
   "name": "python",
   "nbconvert_exporter": "python",
   "pygments_lexer": "ipython2",
   "version": "2.7.12"
  }
 },
 "nbformat": 4,
 "nbformat_minor": 1
}
