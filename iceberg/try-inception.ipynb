{
 "cells": [
  {
   "cell_type": "code",
   "execution_count": 1,
   "metadata": {},
   "outputs": [
    {
     "name": "stderr",
     "output_type": "stream",
     "text": [
      "Using TensorFlow backend.\n"
     ]
    }
   ],
   "source": [
    "import numpy as np\n",
    "import pandas as pd\n",
    "from keras.layers import Conv2D, BatchNormalization, Activation, Input, MaxPooling2D, AveragePooling2D, GlobalAveragePooling2D\n",
    "from keras import layers\n",
    "from keras.models import Model\n",
    "from keras import backend as K\n",
    "import inception_like_model\n",
    "import matplotlib.pyplot as plt\n",
    "%matplotlib inline"
   ]
  },
  {
   "cell_type": "code",
   "execution_count": 2,
   "metadata": {
    "collapsed": true
   },
   "outputs": [],
   "source": [
    "def conv2d_bn(x,\n",
    "              filters,\n",
    "              num_row,\n",
    "              num_col,\n",
    "              padding='same',\n",
    "              strides=(1, 1),\n",
    "              name=None):\n",
    "    \"\"\"Utility function to apply conv + BN.\n",
    "    # Arguments\n",
    "        x: input tensor.\n",
    "        filters: filters in `Conv2D`.\n",
    "        num_row: height of the convolution kernel.\n",
    "        num_col: width of the convolution kernel.\n",
    "        padding: padding mode in `Conv2D`.\n",
    "        strides: strides in `Conv2D`.\n",
    "        name: name of the ops; will become `name + '_conv'`\n",
    "            for the convolution and `name + '_bn'` for the\n",
    "            batch norm layer.\n",
    "    # Returns\n",
    "        Output tensor after applying `Conv2D` and `BatchNormalization`.\n",
    "    \"\"\"\n",
    "    if name is not None:\n",
    "        bn_name = name + '_bn'\n",
    "        conv_name = name + '_conv'\n",
    "    else:\n",
    "        bn_name = None\n",
    "        conv_name = None\n",
    "    if K.image_data_format() == 'channels_first':\n",
    "        bn_axis = 1\n",
    "    else:\n",
    "        bn_axis = 3\n",
    "    x = Conv2D(\n",
    "        filters, (num_row, num_col),\n",
    "        strides=strides,\n",
    "        padding=padding,\n",
    "        use_bias=False,\n",
    "        name=conv_name)(x)\n",
    "    x = BatchNormalization(axis=bn_axis, scale=False, name=bn_name)(x)\n",
    "    x = Activation('relu', name=name)(x)\n",
    "    return x"
   ]
  },
  {
   "cell_type": "code",
   "execution_count": 3,
   "metadata": {},
   "outputs": [],
   "source": [
    "#\n",
    "if K.image_data_format() == 'channels_first':\n",
    "    channel_axis = 1\n",
    "else:\n",
    "    channel_axis = 3\n",
    "\n",
    "# Model architecture\n",
    "img_input = Input(shape=(200, 200, 2))\n",
    "\n",
    "x = conv2d_bn(img_input, 32, 3, 3, strides=(2, 2), padding='valid')\n",
    "x = conv2d_bn(x, 32, 3, 3, padding='valid')\n",
    "x = conv2d_bn(x, 64, 3, 3)\n",
    "x = MaxPooling2D((3, 3), strides=(2, 2))(x)\n",
    "\n",
    "x = conv2d_bn(x, 80, 1, 1, padding='valid')\n",
    "x = conv2d_bn(x, 192, 3, 3, padding='valid')\n",
    "x = MaxPooling2D((3, 3), strides=(2, 2))(x)\n",
    "\n",
    "\n",
    "# mixed 0, 1, 2: 35 x 35 x 256\n",
    "branch1x1 = conv2d_bn(x, 64, 1, 1)\n",
    "\n",
    "branch5x5 = conv2d_bn(x, 48, 1, 1)\n",
    "branch5x5 = conv2d_bn(branch5x5, 64, 5, 5)\n",
    "\n",
    "branch3x3dbl = conv2d_bn(x, 64, 1, 1)\n",
    "branch3x3dbl = conv2d_bn(branch3x3dbl, 96, 3, 3)\n",
    "branch3x3dbl = conv2d_bn(branch3x3dbl, 96, 3, 3)\n",
    "\n",
    "branch_pool = AveragePooling2D((3, 3), strides=(1, 1), padding='same')(x)\n",
    "branch_pool = conv2d_bn(branch_pool, 32, 1, 1)\n",
    "x = layers.concatenate(\n",
    "    [branch1x1, branch5x5, branch3x3dbl, branch_pool],\n",
    "    axis=channel_axis)\n",
    "\n",
    "x = GlobalAveragePooling2D()(x)\n",
    "\n",
    "# Make model\n",
    "model = Model(inputs=img_input, outputs=x)"
   ]
  },
  {
   "cell_type": "code",
   "execution_count": 4,
   "metadata": {
    "collapsed": true
   },
   "outputs": [],
   "source": [
    "im = np.random.rand(1, 200, 200, 2)"
   ]
  },
  {
   "cell_type": "code",
   "execution_count": 5,
   "metadata": {
    "scrolled": true
   },
   "outputs": [
    {
     "data": {
      "text/plain": [
       "array([[  3.89822349e-02,   0.00000000e+00,   6.75054849e-04,\n",
       "          5.51655218e-02,   0.00000000e+00,   0.00000000e+00,\n",
       "          9.54164416e-02,   1.36454357e-03,   5.36442213e-02,\n",
       "          2.75994521e-02,   0.00000000e+00,   2.19060592e-02,\n",
       "          5.24031669e-02,   9.81157348e-02,   0.00000000e+00,\n",
       "          9.38619301e-03,   8.26623105e-03,   0.00000000e+00,\n",
       "          0.00000000e+00,   7.47322151e-03,   4.16849693e-03,\n",
       "          0.00000000e+00,   6.60816655e-02,   5.06746722e-03,\n",
       "          1.91879403e-02,   9.62144211e-02,   1.08637540e-02,\n",
       "          0.00000000e+00,   1.75407212e-02,   0.00000000e+00,\n",
       "          1.55635914e-02,   5.82932398e-06,   0.00000000e+00,\n",
       "          4.63003758e-03,   1.35025922e-02,   5.39142489e-02,\n",
       "          0.00000000e+00,   5.38773857e-05,   0.00000000e+00,\n",
       "          0.00000000e+00,   1.65209230e-02,   3.90494317e-02,\n",
       "          0.00000000e+00,   0.00000000e+00,   5.96953109e-02,\n",
       "          0.00000000e+00,   0.00000000e+00,   3.94430972e-04,\n",
       "          0.00000000e+00,   3.60486321e-02,   0.00000000e+00,\n",
       "          0.00000000e+00,   3.09024919e-02,   0.00000000e+00,\n",
       "          0.00000000e+00,   2.58928540e-05,   2.36269683e-02,\n",
       "          1.56789366e-02,   1.73868352e-06,   0.00000000e+00,\n",
       "          0.00000000e+00,   0.00000000e+00,   9.99454036e-02,\n",
       "          6.54487312e-03,   3.66907421e-04,   6.44681603e-03,\n",
       "          4.99243895e-03,   2.15639127e-03,   2.19682679e-02,\n",
       "          2.35496480e-02,   1.81383465e-03,   1.25101982e-02,\n",
       "          1.06347725e-02,   5.63522568e-04,   6.18212449e-04,\n",
       "          9.15263372e-04,   9.07349680e-03,   2.08424740e-02,\n",
       "          3.68200168e-02,   5.50098310e-04,   3.00349202e-04,\n",
       "          5.16269077e-03,   2.96940319e-02,   5.49891498e-03,\n",
       "          3.80673003e-03,   4.99512488e-03,   1.99781152e-05,\n",
       "          1.74277965e-02,   3.71761780e-05,   2.65913121e-02,\n",
       "          5.32002377e-05,   6.82790705e-05,   2.68172094e-04,\n",
       "          0.00000000e+00,   0.00000000e+00,   1.40875652e-02,\n",
       "          1.85659644e-03,   2.83608795e-03,   1.02402130e-02,\n",
       "          0.00000000e+00,   1.85306910e-02,   8.39075632e-03,\n",
       "          3.23102181e-03,   3.22349624e-05,   3.05318157e-04,\n",
       "          3.95001136e-02,   3.21016051e-02,   1.79399997e-02,\n",
       "          2.25726813e-02,   3.11742928e-02,   0.00000000e+00,\n",
       "          2.69884244e-02,   7.27153337e-03,   1.15871290e-02,\n",
       "          0.00000000e+00,   1.15701725e-04,   3.55169643e-04,\n",
       "          0.00000000e+00,   1.75347202e-04,   0.00000000e+00,\n",
       "          5.44649665e-04,   4.62101918e-04,   5.25395805e-03,\n",
       "          1.49205765e-02,   6.79433788e-06,   7.72836269e-04,\n",
       "          8.58333427e-03,   8.50557070e-03,   1.98519323e-03,\n",
       "          3.00164043e-04,   2.33997479e-02,   6.67822256e-04,\n",
       "          2.80160806e-04,   1.10038538e-02,   4.14622133e-04,\n",
       "          8.96885700e-04,   9.23663447e-06,   5.12972102e-03,\n",
       "          0.00000000e+00,   2.24551586e-05,   5.13482839e-02,\n",
       "          4.14945127e-04,   1.57806535e-05,   3.79153571e-05,\n",
       "          2.59841532e-02,   2.61036959e-03,   1.22324261e-03,\n",
       "          5.95523603e-03,   1.33737344e-02,   5.89808951e-05,\n",
       "          4.88165475e-04,   3.90184708e-02,   5.16653527e-04,\n",
       "          8.97547463e-04,   3.58090911e-04,   1.89072024e-02,\n",
       "          1.47584139e-03,   4.78900300e-04,   1.23473192e-02,\n",
       "          2.82996771e-04,   1.59611600e-03,   2.80664826e-04,\n",
       "          1.34109017e-02,   2.00033039e-02,   1.19932656e-05,\n",
       "          1.48886861e-02,   2.67683584e-02,   0.00000000e+00,\n",
       "          1.08142951e-04,   1.28793844e-03,   2.09445483e-03,\n",
       "          2.36279211e-05,   5.41168338e-05,   1.04160071e-03,\n",
       "          9.92429722e-03,   6.71762507e-03,   5.59700129e-05,\n",
       "          2.78773997e-02,   9.06280987e-03,   4.69266297e-03,\n",
       "          1.84879601e-02,   1.10788411e-02,   2.24074740e-02,\n",
       "          8.24958552e-04,   7.66975433e-03,   1.44249732e-02,\n",
       "          9.33813135e-06,   2.26512086e-04,   3.33554926e-03,\n",
       "          1.98526232e-05,   3.49930897e-02,   5.65646635e-03,\n",
       "          3.52087227e-04,   3.18969153e-02,   4.37718369e-02,\n",
       "          5.76604507e-04,   6.31275121e-04,   5.73543832e-04,\n",
       "          2.06241632e-04,   5.63518927e-02,   1.97788477e-02,\n",
       "          6.78928336e-03,   2.49358214e-04,   4.58446493e-06,\n",
       "          0.00000000e+00,   3.76520166e-03,   8.47454998e-04,\n",
       "          6.16412098e-03,   1.29432157e-02,   2.20520631e-03,\n",
       "          6.13734301e-05,   4.10279696e-04,   1.29050985e-02,\n",
       "          1.96155887e-02,   1.57164596e-02,   2.22138304e-04,\n",
       "          3.23750451e-02,   2.17339247e-02,   1.25413956e-02,\n",
       "          9.41403676e-04,   1.06409716e-03,   1.31045279e-04,\n",
       "          2.98436262e-05,   6.84913539e-04,   0.00000000e+00,\n",
       "          0.00000000e+00,   0.00000000e+00,   0.00000000e+00,\n",
       "          1.91623258e-04,   5.07237688e-02,   0.00000000e+00,\n",
       "          2.84672510e-02,   1.99891683e-02,   0.00000000e+00,\n",
       "          0.00000000e+00,   1.14580467e-02,   2.09648814e-02,\n",
       "          0.00000000e+00,   2.38358843e-05,   1.24818043e-05,\n",
       "          0.00000000e+00,   9.57195759e-02,   0.00000000e+00,\n",
       "          0.00000000e+00,   3.13441618e-03,   4.25118245e-02,\n",
       "          6.33863360e-02,   1.59834232e-02,   8.10111314e-03,\n",
       "          1.96429621e-02,   0.00000000e+00,   8.35443363e-02,\n",
       "          0.00000000e+00,   0.00000000e+00,   0.00000000e+00,\n",
       "          0.00000000e+00]], dtype=float32)"
      ]
     },
     "execution_count": 5,
     "metadata": {},
     "output_type": "execute_result"
    }
   ],
   "source": [
    "p = model.predict(im)\n",
    "p"
   ]
  },
  {
   "cell_type": "code",
   "execution_count": 6,
   "metadata": {},
   "outputs": [
    {
     "data": {
      "text/plain": [
       "(1, 256)"
      ]
     },
     "execution_count": 6,
     "metadata": {},
     "output_type": "execute_result"
    }
   ],
   "source": [
    "p.shape"
   ]
  },
  {
   "cell_type": "code",
   "execution_count": null,
   "metadata": {
    "collapsed": true
   },
   "outputs": [],
   "source": []
  },
  {
   "cell_type": "code",
   "execution_count": null,
   "metadata": {
    "collapsed": true
   },
   "outputs": [],
   "source": []
  }
 ],
 "metadata": {
  "kernelspec": {
   "display_name": "Python 2",
   "language": "python",
   "name": "python2"
  },
  "language_info": {
   "codemirror_mode": {
    "name": "ipython",
    "version": 2
   },
   "file_extension": ".py",
   "mimetype": "text/x-python",
   "name": "python",
   "nbconvert_exporter": "python",
   "pygments_lexer": "ipython2",
   "version": "2.7.14"
  }
 },
 "nbformat": 4,
 "nbformat_minor": 2
}
