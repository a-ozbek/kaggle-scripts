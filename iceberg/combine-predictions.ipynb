{
 "cells": [
  {
   "cell_type": "code",
   "execution_count": 1,
   "metadata": {},
   "outputs": [],
   "source": [
    "import numpy as np\n",
    "import pandas as pd"
   ]
  },
  {
   "cell_type": "code",
   "execution_count": 2,
   "metadata": {},
   "outputs": [],
   "source": [
    "# sub19 - 0.1550 - w = 0.40\n",
    "# sub12 - 0.1582 - w = 0.18\n",
    "# sub18 - 0.1589 - w = 0.16\n",
    "# sub11 - 0.1609 - w = 0.15\n",
    "# sub10 - 0.1620 - w = 0.10\n",
    "# sub8 - 0.1822 - w = 0.04\n",
    "# sub7 - 0.1765 - w = 0.025\n",
    "# sub6 - 0.2123 - w = 0.02\n",
    "# sub5 - 0.2345 - w = 0.01"
   ]
  },
  {
   "cell_type": "code",
   "execution_count": 3,
   "metadata": {},
   "outputs": [],
   "source": [
    "f_predictions = [('./submissions/sub5.csv', 0.015),\n",
    "                 ('./submissions/sub6.csv', 0.02),\n",
    "                 ('./submissions/sub7.csv', 0.025),\n",
    "                 ('./submissions/sub8.csv', 0.04),\n",
    "                 ('./submissions/sub10.csv', 0.10),\n",
    "                 ('./submissions/sub11.csv', 0.15),\n",
    "                 ('./submissions/sub12.csv', 0.18),\n",
    "                 ('./submissions/sub18.csv', 0.16),\n",
    "                 ('./submissions/sub19.csv', 0.40),\n",
    "                 ('./submissions/sub25.csv', 0.70)]\n",
    "# weights = [0.01, 0.02, 0.025, 0.04, 0.10, 0.15, 0.30]\n",
    "# assert sum(weights) == 1, \"Sum of the weights must add up to 1\""
   ]
  },
  {
   "cell_type": "code",
   "execution_count": 4,
   "metadata": {},
   "outputs": [],
   "source": [
    "# zip(f_predictions, weights)"
   ]
  },
  {
   "cell_type": "code",
   "execution_count": 5,
   "metadata": {
    "scrolled": true
   },
   "outputs": [],
   "source": [
    "# Get id columns\n",
    "ids = pd.read_csv('./submissions/sub7.csv')['id'].values\n",
    "\n",
    "# Get combined predictions\n",
    "p = 0\n",
    "for f, w in f_predictions:\n",
    "     p += pd.read_csv(f)['is_iceberg'].values * w\n",
    "weights = [e[1] for e in f_predictions]\n",
    "p = p / sum(weights)"
   ]
  },
  {
   "cell_type": "code",
   "execution_count": 6,
   "metadata": {},
   "outputs": [],
   "source": [
    "# Create df\n",
    "df = pd.DataFrame()\n",
    "df['id'] = ids\n",
    "df['is_iceberg'] = p"
   ]
  },
  {
   "cell_type": "code",
   "execution_count": 7,
   "metadata": {},
   "outputs": [],
   "source": [
    "df.to_csv('./submissions/sub5-6-7-8-10-11-12-18-19-25-v2.csv', index=False)"
   ]
  },
  {
   "cell_type": "code",
   "execution_count": null,
   "metadata": {},
   "outputs": [],
   "source": []
  },
  {
   "cell_type": "code",
   "execution_count": null,
   "metadata": {
    "collapsed": true
   },
   "outputs": [],
   "source": []
  },
  {
   "cell_type": "code",
   "execution_count": null,
   "metadata": {
    "collapsed": true
   },
   "outputs": [],
   "source": []
  },
  {
   "cell_type": "code",
   "execution_count": null,
   "metadata": {
    "collapsed": true
   },
   "outputs": [],
   "source": []
  }
 ],
 "metadata": {
  "kernelspec": {
   "display_name": "Python 2",
   "language": "python",
   "name": "python2"
  },
  "language_info": {
   "codemirror_mode": {
    "name": "ipython",
    "version": 2
   },
   "file_extension": ".py",
   "mimetype": "text/x-python",
   "name": "python",
   "nbconvert_exporter": "python",
   "pygments_lexer": "ipython2",
   "version": "2.7.14"
  }
 },
 "nbformat": 4,
 "nbformat_minor": 2
}
